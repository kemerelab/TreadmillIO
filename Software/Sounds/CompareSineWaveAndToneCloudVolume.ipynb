{
 "cells": [
  {
   "cell_type": "markdown",
   "metadata": {},
   "source": [
    "# Measure empirical volume difference between pure tones and tone cloud "
   ]
  },
  {
   "cell_type": "code",
   "execution_count": 1,
   "metadata": {},
   "outputs": [],
   "source": [
    "import numpy as np\n",
    "import os\n",
    "import soundfile as sf"
   ]
  },
  {
   "cell_type": "code",
   "execution_count": 2,
   "metadata": {},
   "outputs": [
    {
     "name": "stdout",
     "output_type": "stream",
     "text": [
      "/home/ckemere/Code/TreadmillIO/ClientSide/Sounds\n"
     ]
    }
   ],
   "source": [
    "input_dir = os.getcwd()\n",
    "print(input_dir)"
   ]
  },
  {
   "cell_type": "code",
   "execution_count": 3,
   "metadata": {},
   "outputs": [],
   "source": [
    "tone_filename = '192kHz/tone_17kHz.wav'\n",
    "\n",
    "tone, fs = sf.read(tone_filename)\n",
    "\n",
    "cloud_filename = '192kHz/tone_cloud_short.wav'\n",
    "cloud, fs = sf.read(cloud_filename)\n"
   ]
  },
  {
   "cell_type": "code",
   "execution_count": 4,
   "metadata": {},
   "outputs": [
    {
     "name": "stdout",
     "output_type": "stream",
     "text": [
      "RMS of tone: 0.6363630727347004\n",
      "RMS of cloud: 0.14905037655320125\n",
      "Volume Difference: 12.607437853016757\n"
     ]
    }
   ],
   "source": [
    "tone_rms = np.sqrt(np.mean(tone**2))\n",
    "print('RMS of tone: {}'.format(tone_rms))\n",
    "\n",
    "cloud_rms = np.sqrt(np.mean(cloud**2))\n",
    "print('RMS of cloud: {}'.format(cloud_rms))\n",
    "\n",
    "print('Volume Difference: {}'.format(20*np.log10(tone_rms/cloud_rms)))"
   ]
  },
  {
   "cell_type": "code",
   "execution_count": null,
   "metadata": {},
   "outputs": [],
   "source": []
  }
 ],
 "metadata": {
  "kernelspec": {
   "display_name": "Python 3",
   "language": "python",
   "name": "python3"
  },
  "language_info": {
   "codemirror_mode": {
    "name": "ipython",
    "version": 3
   },
   "file_extension": ".py",
   "mimetype": "text/x-python",
   "name": "python",
   "nbconvert_exporter": "python",
   "pygments_lexer": "ipython3",
   "version": "3.7.5"
  }
 },
 "nbformat": 4,
 "nbformat_minor": 2
}
