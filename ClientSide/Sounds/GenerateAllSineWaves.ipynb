{
 "cells": [
  {
   "cell_type": "markdown",
   "metadata": {},
   "source": [
    "# Generate Audio for Behavior Task"
   ]
  },
  {
   "cell_type": "markdown",
   "metadata": {},
   "source": [
    "## Initial setup"
   ]
  },
  {
   "cell_type": "code",
   "execution_count": 1,
   "metadata": {},
   "outputs": [],
   "source": [
    "import wave, struct, math\n",
    "import numpy as np\n",
    "from scipy import signal\n",
    "import os, json\n",
    "import matplotlib.pyplot as plt"
   ]
  },
  {
   "cell_type": "code",
   "execution_count": 2,
   "metadata": {},
   "outputs": [
    {
     "name": "stdout",
     "output_type": "stream",
     "text": [
      "/home/ckemere/Code/TreadmillIO/ClientSide/Sounds\n"
     ]
    }
   ],
   "source": [
    "output_dir = os.getcwd()\n",
    "print(output_dir)"
   ]
  },
  {
   "cell_type": "markdown",
   "metadata": {},
   "source": [
    "## Sine waves"
   ]
  },
  {
   "cell_type": "code",
   "execution_count": 3,
   "metadata": {},
   "outputs": [],
   "source": [
    "sampling_rates = [48000.0, 96000.0, 192000.0]"
   ]
  },
  {
   "cell_type": "code",
   "execution_count": 4,
   "metadata": {},
   "outputs": [],
   "source": [
    "tone_frequencies = [4000.0, 5000.0, 7000.0, 9000.0, 11000.0, 13000.0, 17000.0]"
   ]
  },
  {
   "cell_type": "code",
   "execution_count": 7,
   "metadata": {},
   "outputs": [
    {
     "name": "stdout",
     "output_type": "stream",
     "text": [
      "Creating output directory /home/ckemere/Code/TreadmillIO/ClientSide/Sounds/48kHz\n",
      "Creating output directory /home/ckemere/Code/TreadmillIO/ClientSide/Sounds/96kHz\n",
      "Creating output directory /home/ckemere/Code/TreadmillIO/ClientSide/Sounds/192kHz\n"
     ]
    }
   ],
   "source": [
    "for fs in sampling_rates:\n",
    "    sound_dir = os.path.join(output_dir, \"{}kHz\".format(int(fs/1000)))\n",
    "    if not os.path.isdir(sound_dir):\n",
    "        print('Creating output directory {}'.format(sound_dir))\n",
    "        \n",
    "        os.makedirs(sound_dir)\n",
    "    for freq in tone_frequencies:\n",
    "\n",
    "        filename = 'tone_{}kHz.wav'.format(int(freq/1000))\n",
    "\n",
    "        # Audio settings\n",
    "        num_channels = 1\n",
    "        T = 1.0 # duration (s)\n",
    "        A_max = 0.5 * 32767.0 # max amplitude (short)\n",
    "\n",
    "        with wave.open(os.path.join(sound_dir,filename),'wb') as wf:\n",
    "            # File settings\n",
    "            wf.setnchannels(num_channels) # mono\n",
    "            wf.setsampwidth(2) # 2 bytes = short\n",
    "            wf.setframerate(fs)\n",
    "\n",
    "            # Write frames to file object\n",
    "            for i in range(int(T * fs)):\n",
    "                s = int(A_max*math.sin(2*math.pi*freq*float(i)/fs))\n",
    "                s = struct.pack('<h', s)\n",
    "                for j in range(num_channels):\n",
    "                    wf.writeframesraw(s)\n",
    "\n",
    "        # Save sound parameters\n",
    "        with open(os.path.join(sound_dir,filename.split('.')[0] + '.json'), 'w') as f:\n",
    "            d = {'num_channels': num_channels,\n",
    "                 'fs': fs, \n",
    "                 'T': T,\n",
    "                 'A': A_max,\n",
    "                 'frequency': freq}\n",
    "            f.write(json.dumps(d, indent=4))"
   ]
  },
  {
   "cell_type": "code",
   "execution_count": null,
   "metadata": {},
   "outputs": [],
   "source": []
  }
 ],
 "metadata": {
  "kernelspec": {
   "display_name": "Python 3",
   "language": "python",
   "name": "python3"
  },
  "language_info": {
   "codemirror_mode": {
    "name": "ipython",
    "version": 3
   },
   "file_extension": ".py",
   "mimetype": "text/x-python",
   "name": "python",
   "nbconvert_exporter": "python",
   "pygments_lexer": "ipython3",
   "version": "3.7.5"
  }
 },
 "nbformat": 4,
 "nbformat_minor": 2
}
