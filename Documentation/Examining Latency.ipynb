{
 "cells": [
  {
   "cell_type": "code",
   "execution_count": 3,
   "metadata": {},
   "outputs": [],
   "source": [
    "import numpy as np\n",
    "import matplotlib.pyplot as plt\n",
    "import scipy.io.wavfile"
   ]
  },
  {
   "cell_type": "markdown",
   "metadata": {},
   "source": [
    "### Setup:\n",
    "  - Run `latency_test.yaml` or some other file that has short GPIOs.\n",
    "  - Split audio feed so that one channel of output audio is being looped into one channel of input and the pulsing GPIO is being sent into the other input channel. \n",
    "  - You can use two 1/8\" stereo-to-RCA (male) connector cables along with two RCA-RCA (f/f) connectors. \n",
    "      - One is used to connect the audio channel (left or right depending on where sounds are being generated\n",
    "      - The other connects to a RCA-BNC connector, which connects to a BNC cable, which connects to a BNC-SMA connector, which can attach to the GPIO board.\n",
    "\n",
    "\n",
    "### Goals:\n",
    "\n",
    "  1. Make sure that recorded audio data looks ok\n",
    "      - It was noted once that there were occasional large gaps in the recorded timestamps\n",
    "  2. Figure out alignment/offsets between pulse times recorded with GPIO and pulse times recorded in audio\n",
    "  3. Measure latency between GPIO and sound\n",
    "  \n",
    "### NOTE: The data file for this analysis used a buffer size of `64`, which corresponds to a playback buffer of 4 x 64 = 256 samples. "
   ]
  },
  {
   "cell_type": "code",
   "execution_count": 159,
   "metadata": {},
   "outputs": [],
   "source": [
    "data_dir = '../ExperimentLog2020-06-18_2226'\n",
    "import os"
   ]
  },
  {
   "cell_type": "code",
   "execution_count": 160,
   "metadata": {},
   "outputs": [],
   "source": [
    "fs, data = scipy.io.wavfile.read(os.path.join(data_dir, 'microphone.wav'))"
   ]
  },
  {
   "cell_type": "code",
   "execution_count": 161,
   "metadata": {},
   "outputs": [],
   "source": [
    "audio_ts = np.loadtxt(os.path.join(data_dir, 'microphone.wav.log'), delimiter=',', skiprows=2)"
   ]
  },
  {
   "cell_type": "markdown",
   "metadata": {},
   "source": [
    "### The audio timestamp file\n",
    "\n",
    "The audio timestamp file is arranged in a Nx2 CSV array. The first value on each row is the number of samples received in the buffer, and the second value is the CLOCK_MONOTONIC timestamp retrieved immediately after the program retrieved that buffer. It is believed that that timestamp corresponds to the end of the buffer (i.e., the last sample), but the ALSA documentation is confusing.\n",
    "\n",
    "In this example program, the buffer size was set to **B = 1024**. It is one of a 4**B**-sized ring buffer that the sound card driver writes to. So it is expected that the timestamps should be about 4**B** late relative to the code. But if we occasionally fall behind less than **B**, then it's possible that we'll see jitter. If we fall behind more than **B** but less than 3**B**, then the driver should return a larger buffer which we would record. If we fall behind longer, then there was an overrun, which should have been seen on the screen.\n",
    "\n",
    "So first, let's check to see if any buffer sizes are different than expected."
   ]
  },
  {
   "cell_type": "code",
   "execution_count": 162,
   "metadata": {},
   "outputs": [
    {
     "name": "stdout",
     "output_type": "stream",
     "text": [
      "[1024.]\n"
     ]
    }
   ],
   "source": [
    "buffer_sizes = np.unique(audio_ts[:,0])\n",
    "print(buffer_sizes)"
   ]
  },
  {
   "cell_type": "markdown",
   "metadata": {},
   "source": [
    "In our example, we only see one value.\n",
    "\n",
    "**B = 1024** should correspond to a delay of about 1024/48000 (the sampling rate for this file). So next, let's check for excessive differences in the timestamps."
   ]
  },
  {
   "cell_type": "code",
   "execution_count": 163,
   "metadata": {},
   "outputs": [
    {
     "data": {
      "text/plain": [
       "(array([   6,    9,   19,   20,   52,   68,   70,   94,   95,   99,  101,\n",
       "         118,  120,  180,  184,  218,  220,  332,  348,  351,  470,  484,\n",
       "         485,  522,  523,  545,  560,  570,  579,  582,  590,  670,  714,\n",
       "         726,  729,  812,  813,  922,  960,  964,  966, 1046, 1093, 1094]),)"
      ]
     },
     "execution_count": 163,
     "metadata": {},
     "output_type": "execute_result"
    }
   ],
   "source": [
    "diff_ts = np.diff(audio_ts[:,1]/1e9) # convert timestamps to seconds (from ns) and take a diff\n",
    "np.where(diff_ts > (buffer_sizes[0]/fs)*1.2)"
   ]
  },
  {
   "cell_type": "markdown",
   "metadata": {},
   "source": [
    "In our example, we didn't find any values more than 1.2 times the expected buffer size. Let's look at a histogram just to be fun."
   ]
  },
  {
   "cell_type": "code",
   "execution_count": 164,
   "metadata": {},
   "outputs": [
    {
     "data": {
      "text/plain": [
       "<matplotlib.axes._subplots.AxesSubplot at 0x7f67facc9790>"
      ]
     },
     "execution_count": 164,
     "metadata": {},
     "output_type": "execute_result"
    },
    {
     "data": {
      "image/png": "[encoded data removed]",
      "text/plain": [
       "<Figure size 432x288 with 1 Axes>"
      ]
     },
     "metadata": {
      "needs_background": "light"
     },
     "output_type": "display_data"
    }
   ],
   "source": [
    "import seaborn as sns\n",
    "sns.distplot(diff_ts)"
   ]
  },
  {
   "cell_type": "markdown",
   "metadata": {},
   "source": [
    "I'm not sure what the two peaks mean. "
   ]
  },
  {
   "cell_type": "markdown",
   "metadata": {},
   "source": [
    "In order to get timestamps for each sample, let's regress our data!"
   ]
  },
  {
   "cell_type": "code",
   "execution_count": 165,
   "metadata": {},
   "outputs": [
    {
     "name": "stdout",
     "output_type": "stream",
     "text": [
      "Measured slope: {}. Expected (1/FS): {} 1.0416624330161405e-05 1.0416666666666666e-05\n",
      "Time for (N-B) samples:  11.829919589003111\n",
      "Print N-B is:  1135616.0\n",
      "Approximate FS is:  95995.2425252027\n"
     ]
    },
    {
     "data": {
      "image/png": "[encoded data removed]",
      "text/plain": [
       "<Figure size 432x288 with 1 Axes>"
      ]
     },
     "metadata": {
      "needs_background": "light"
     },
     "output_type": "display_data"
    }
   ],
   "source": [
    "import scipy.stats\n",
    "\n",
    "n_buffer = np.cumsum(audio_ts[:,0])\n",
    "buffer_ts = audio_ts[:,1]/1e9\n",
    "\n",
    "slope, intercept, r_value, p_value, std_err = scipy.stats.linregress(n_buffer,buffer_ts)\n",
    "\n",
    "print('Measured slope: {}. Expected (1/FS): {}', slope, 1/fs)\n",
    "\n",
    "plt.plot(n_buffer[:-1],np.diff(audio_ts[:,1])/1e9,'.')\n",
    "plt.plot(n_buffer[:-1],np.ones(n_buffer.shape[0]-1)*buffer_sizes[0]/fs)\n",
    "\n",
    "print('Time for (N-B) samples: ', (buffer_ts[-1]-buffer_ts[0]))\n",
    "print('Print N-B is: ', n_buffer[-1]-n_buffer[0])\n",
    "print('Approximate FS is: ', (n_buffer[-1]-n_buffer[0])/(buffer_ts[-1]-buffer_ts[0]))"
   ]
  },
  {
   "cell_type": "markdown",
   "metadata": {},
   "source": [
    "### Look at some data\n",
    "Next, let's look at our data. In this example file, the tones are on channel 1 and the pulses are on channel 0."
   ]
  },
  {
   "cell_type": "code",
   "execution_count": 166,
   "metadata": {},
   "outputs": [
    {
     "data": {
      "image/png": "[encoded data removed]",
      "text/plain": [
       "<Figure size 432x288 with 1 Axes>"
      ]
     },
     "metadata": {
      "needs_background": "light"
     },
     "output_type": "display_data"
    }
   ],
   "source": [
    "t_sound = intercept + np.arange(0, data.shape[0], step=1) * slope\n",
    "plt.plot(t_sound[:fs], data[:fs,:]);\n"
   ]
  },
  {
   "cell_type": "markdown",
   "metadata": {},
   "source": [
    "### Let's find the pulse times. \n",
    "\n",
    "Here `nelpy` can help us alot, namely `get_threshold_crossing_epochs`, which will give us our pulse times! What to use for threshold?"
   ]
  },
  {
   "cell_type": "code",
   "execution_count": 167,
   "metadata": {},
   "outputs": [],
   "source": [
    "import nelpy as nel"
   ]
  },
  {
   "cell_type": "code",
   "execution_count": 168,
   "metadata": {},
   "outputs": [],
   "source": [
    "audio_pulses_nel = nel.AnalogSignalArray(data[:,0], time=t_sound, fs=fs)"
   ]
  },
  {
   "cell_type": "code",
   "execution_count": 169,
   "metadata": {},
   "outputs": [
    {
     "name": "stdout",
     "output_type": "stream",
     "text": [
      "Finding pulses took 0.35337352752685547s\n"
     ]
    }
   ],
   "source": [
    "import time\n",
    "t0 = time.time()\n",
    "audio_pulse_epochs = nel.utils.get_threshold_crossing_epochs(audio_pulses_nel, t1=3000, t2 = 20)\n",
    "t1 = time.time()\n",
    "print('Finding pulses took {}s'.format(t1-t0))"
   ]
  },
  {
   "cell_type": "code",
   "execution_count": 170,
   "metadata": {},
   "outputs": [
    {
     "data": {
      "text/plain": [
       "array([16927.79156258, 16928.81148552, 16929.83145012, 16930.85137306,\n",
       "       16931.87131683, 16932.8912606 , 16933.91120437, 16934.93114814,\n",
       "       16935.95110233, 16936.9710461 , 16937.99098987, 16939.01094406])"
      ]
     },
     "execution_count": 170,
     "metadata": {},
     "output_type": "execute_result"
    }
   ],
   "source": [
    "audio_pulse_epochs.data[:,0] # Here they are!"
   ]
  },
  {
   "cell_type": "markdown",
   "metadata": {},
   "source": [
    "### GPIO Data\n",
    "\n",
    "Next, let's load the GPIO data. It's also stored in a CSV file. Each row corresponds to a record with\n",
    "  1. The master time (from the clock on the IO board) - these should increment exactly 2 ms each sample\n",
    "  2. GPIO - an Int corresonding to the values of each of the pins\n",
    "  3. Encoder - the value of the rotational encoder. For our situation, the encoder usually goes from 0 to 4095\n",
    "  4. UnwrappedEncoder - the unwrapped value of the encoder - this increments all the way to the maximum value (32 bit)\n",
    "  5. last_ts - the CLOCK_MONOTONIC value (converted to seconds) received at the sampling time"
   ]
  },
  {
   "cell_type": "code",
   "execution_count": 171,
   "metadata": {},
   "outputs": [],
   "source": [
    "gpio_data = np.loadtxt(os.path.join(data_dir, 'DataLog.csv'), delimiter=',', skiprows=2)"
   ]
  },
  {
   "cell_type": "markdown",
   "metadata": {},
   "source": [
    "Next, let's look at the pulses as recorded by the GPIO"
   ]
  },
  {
   "cell_type": "code",
   "execution_count": 172,
   "metadata": {},
   "outputs": [],
   "source": [
    "gpio_pulse_train_data = gpio_data[:,1].astype(int) & 1 # Our pulse pin is channel 0 (0x0001)\n",
    "gpio_response_train_data = gpio_data[:,1].astype(int) & 4 # Our pulse pin is channel 0 (0x0001)"
   ]
  },
  {
   "cell_type": "markdown",
   "metadata": {},
   "source": [
    "Again, we'll use `nelpy.utils.get_threshold_crossing_epochs` to find them. We'll use the `CLOCK_MONOTONIC` timestamps rather than the 1 kHz Master Clock so that we can match them up to the audio."
   ]
  },
  {
   "cell_type": "code",
   "execution_count": 173,
   "metadata": {},
   "outputs": [],
   "source": [
    "gpio_pulses_nel = nel.AnalogSignalArray(gpio_pulse_train_data.astype(float), time=gpio_data[:,-1])\n",
    "gpio_pulse_epochs = nel.utils.get_threshold_crossing_epochs(gpio_pulses_nel, t1=0.5)\n",
    "\n",
    "gpio_responses_nel = nel.AnalogSignalArray(gpio_response_train_data.astype(float), time=gpio_data[:,-1])"
   ]
  },
  {
   "cell_type": "markdown",
   "metadata": {},
   "source": [
    "Do we find the same number as in the audio recorded file?"
   ]
  },
  {
   "cell_type": "code",
   "execution_count": 174,
   "metadata": {},
   "outputs": [
    {
     "name": "stdout",
     "output_type": "stream",
     "text": [
      "Number of pulses recorded in audio file: 12; gpio file: 12\n"
     ]
    }
   ],
   "source": [
    "print('Number of pulses recorded in audio file: {}; gpio file: {}'.format(len(audio_pulse_epochs), len(gpio_pulse_epochs)))"
   ]
  },
  {
   "cell_type": "code",
   "execution_count": 175,
   "metadata": {},
   "outputs": [
    {
     "name": "stdout",
     "output_type": "stream",
     "text": [
      "[[16927.79124408 16927.7972562 ]\n",
      " [16928.81124661 16928.81724294]\n",
      " [16929.83124147 16929.83725263]\n",
      " [16930.85123698 16930.85723766]\n",
      " [16931.87126436 16931.87726283]]\n",
      "[[16927.79156258 16927.79756255]\n",
      " [16928.81148552 16928.81748549]\n",
      " [16929.83145012 16929.8374501 ]\n",
      " [16930.85137306 16930.85737303]\n",
      " [16931.87131683 16931.87735847]]\n"
     ]
    }
   ],
   "source": [
    "print(gpio_pulse_epochs[:5].data)\n",
    "print(audio_pulse_epochs[:5].data)"
   ]
  },
  {
   "cell_type": "markdown",
   "metadata": {},
   "source": [
    "And how do the `CLOCK_MONOTONIC` timestamps compare in GPIO and wav-file-log records?"
   ]
  },
  {
   "cell_type": "code",
   "execution_count": 176,
   "metadata": {},
   "outputs": [
    {
     "data": {
      "text/plain": [
       "<matplotlib.axes._subplots.AxesSubplot at 0x7f67fa71de50>"
      ]
     },
     "execution_count": 176,
     "metadata": {},
     "output_type": "execute_result"
    },
    {
     "data": {
      "image/png": "[encoded data removed]",
      "text/plain": [
       "<Figure size 432x288 with 1 Axes>"
      ]
     },
     "metadata": {
      "needs_background": "light"
     },
     "output_type": "display_data"
    }
   ],
   "source": [
    "sns.distplot(gpio_pulse_epochs.data[:,0] - audio_pulse_epochs.data[:,0]) # the epochs hold the start (index 0) and stop of pulses"
   ]
  },
  {
   "cell_type": "markdown",
   "metadata": {},
   "source": [
    "Pretty good. Using the linear interpolation approach to find the audio timestamps, \n",
    "it appears that we end up with a consistent difference of almost 1 ms between the data\n",
    "recorded using the GPIO/serial interface and the logging of the microphone data.\n",
    "Specifically, the GPIO data is about 1 ms later than the signal recorded in the\n",
    "wav file. This may be reasonable - the pulse is triggered, but then doesn't\n",
    "get *reported* (and thus `CLOCK_MONOTONIC` sampled until the next sample. But\n",
    "that should actually be **2** ms later (because the GPIO samples come every 2 ms)! \n",
    "So that suggets that **our audio timestamps are actually about _1 ms delayed_ \n",
    "from their proper real-time value.** \n",
    "\n",
    "**BUT WAIT** -\n",
    "### Next, let's actually look at the latency of the sine wave versus the GPIO pulse."
   ]
  },
  {
   "cell_type": "code",
   "execution_count": 177,
   "metadata": {},
   "outputs": [],
   "source": [
    "audio_tone_nel = nel.AnalogSignalArray(data[:,1], time=t_sound, fs=fs)"
   ]
  },
  {
   "cell_type": "code",
   "execution_count": 178,
   "metadata": {},
   "outputs": [
    {
     "data": {
      "text/plain": [
       "Text(0.5, 0, 'Time (s)')"
      ]
     },
     "execution_count": 178,
     "metadata": {},
     "output_type": "execute_result"
    },
    {
     "data": {
      "image/png": "[encoded data removed]",
      "text/plain": [
       "<Figure size 864x432 with 2 Axes>"
      ]
     },
     "metadata": {
      "needs_background": "light"
     },
     "output_type": "display_data"
    }
   ],
   "source": [
    "import logging\n",
    "logger = logging.getLogger()\n",
    "logger.setLevel(logging.ERROR)\n",
    "\n",
    "fig, ax = plt.subplots(1,1, figsize=(12,6))\n",
    "ax2 = ax.twinx()\n",
    "\n",
    "t_rhs = 0.07\n",
    "t_lhs = 0.0001\n",
    "for ep in audio_pulse_epochs[:]:\n",
    "    t = audio_tone_nel[ep.expand(t_lhs, direction='start').expand(t_rhs, direction='stop')].abscissa_vals\n",
    "    d1 = audio_tone_nel[ep.expand(t_lhs, direction='start').expand(t_rhs, direction='stop')].data\n",
    "    d2 = audio_pulses_nel[ep.expand(t_lhs, direction='start').expand(t_rhs, direction='stop')].data\n",
    "    g1 = gpio_pulses_nel[ep.expand(t_lhs, direction='start').expand(t_rhs, direction='stop')].data\n",
    "    tg1 = gpio_pulses_nel[ep.expand(t_lhs, direction='start').expand(t_rhs, direction='stop')].abscissa_vals\n",
    "    r1 = gpio_responses_nel[ep.expand(t_lhs, direction='start').expand(t_rhs, direction='stop')].data\n",
    "\n",
    "    ax.plot(t - t[0], d1.T, color='skyblue', alpha=0.5)\n",
    "    ax.plot(t - t[0], d2.T, color='gray', alpha=0.5)\n",
    "    ax2.plot(tg1 - tg1[0], g1.T, 'k.')\n",
    "    ax2.plot(tg1 - tg1[0], r1.T, 'r.')\n",
    "    \n",
    "ax2.set_ylabel('GPIO Pulses')\n",
    "ax.set_ylabel('Analog Signal')\n",
    "ax.set_xlabel('Time (s)')"
   ]
  },
  {
   "cell_type": "markdown",
   "metadata": {},
   "source": [
    "We see from the above figure that the latency may actually come from something about the way that the threshold crossing algorithm is being implemented for the GPIOs. The actual time of the GPIO pulse being high is quite well aligned (sub-millisecond) with the pulse from the analog input.\n",
    "\n",
    "The `latency_test.yaml` state machine is structured as follows: `RaiseGPIO` sets the pulse GPIO high with a conditional transition on the sense pin is detected high; `SignalGPIO` raises a second GPIO; `LowerPulse` lowers the pulse GPIO pin; `PlaySound` plays the sine wave. We can see that the time between when the GPIO is raised and lowered is 8 ms, which matches expectations (GPIO goes high, the next 2 ms tick it's detected (and a state transition is triggered), the next tick the `Signal` GPIO is raised, and the next tick it's lowered).\n",
    "\n",
    "Also, we see that the time from the initial trigger pulse to the sine wave onset is about 13 ms. The sound transition is triggered after the GPIO is lowered, or 8 ms after the pulse went high. 6 ms of that 8 ms is just due to state machine transitions, so the \"real\" **closed-loop latency** - *the time between when an IO state change is detected and a change in sound is measurable on the sound card output* -  is about **7 ms**.\n"
   ]
  },
  {
   "cell_type": "code",
   "execution_count": null,
   "metadata": {},
   "outputs": [],
   "source": []
  }
 ],
 "metadata": {
  "kernelspec": {
   "display_name": "Python 3",
   "language": "python",
   "name": "python3"
  },
  "language_info": {
   "codemirror_mode": {
    "name": "ipython",
    "version": 3
   },
   "file_extension": ".py",
   "mimetype": "text/x-python",
   "name": "python",
   "nbconvert_exporter": "python",
   "pygments_lexer": "ipython3",
   "version": "3.7.5"
  }
 },
 "nbformat": 4,
 "nbformat_minor": 4
}
